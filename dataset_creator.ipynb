{
  "cells": [
    {
      "cell_type": "markdown",
      "metadata": {
        "id": "Eh9RnVG86UGJ"
      },
      "source": []
    },
    {
      "cell_type": "code",
      "execution_count": null,
      "metadata": {
        "colab": {
          "base_uri": "https://localhost:8080/"
        },
        "id": "hxgUr89OETGn",
        "outputId": "2c98b592-dcb8-4c74-cdbb-221f8c418490"
      },
      "outputs": [],
      "source": [
        "!pip install transformers datasets accelerate\n",
        "!pip install groq"
      ]
    },
    {
      "cell_type": "code",
      "execution_count": null,
      "metadata": {
        "id": "vIdNMeSPEYzF"
      },
      "outputs": [],
      "source": [
        "with open('10.txt', 'r', encoding='utf-8') as f:\n",
        "    full_text = f.read()"
      ]
    },
    {
      "cell_type": "code",
      "execution_count": null,
      "metadata": {
        "colab": {
          "base_uri": "https://localhost:8080/"
        },
        "id": "RrVfTGQgFzHc",
        "outputId": "e22a2cc5-abb5-427d-c6c3-e9d58b6e15d3"
      },
      "outputs": [],
      "source": [
        "def split_text_into_chunks(text, max_chunk_chars):\n",
        "    import textwrap\n",
        "    chunks = textwrap.wrap(text, max_chunk_chars, break_long_words=False, break_on_hyphens=False)\n",
        "    print(f\"Total chunks created: {len(chunks)}\\n\")\n",
        "    print(\"Sample chunk: \")\n",
        "    print(chunks[8])\n",
        "    return chunks\n",
        "\n",
        "chunks = split_text_into_chunks(full_text, max_chunk_chars=2000)"
      ]
    },
    {
      "cell_type": "code",
      "execution_count": null,
      "metadata": {
        "colab": {
          "base_uri": "https://localhost:8080/"
        },
        "id": "p8eldKPwGAll",
        "outputId": "736b9d0a-c446-4f31-98e7-0df2f9c3f597"
      },
      "outputs": [],
      "source": [
        "from groq import Groq\n",
        "import time\n",
        "\n",
        "client = Groq(api_key= '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')  # Replace with your key\n",
        "\n",
        "qa_pairs = []\n",
        "\n",
        "for idx, chunk in enumerate(chunks):  # Adjust chunk limit as needed\n",
        "    print(f\"Processing chunk {idx + 1} of {len(chunks)}\")\n",
        "    # Step 4.1: Generate 5 questions from this chunk\n",
        "    try:\n",
        "        messages = [\n",
        "            {\"role\": \"system\", \"content\": \"You are being used to generate a dataset for finrtuning a llm a Indian GST law chatbot.\"},\n",
        "            {\"role\": \"user\", \"content\": f\"Generate 5 unique and insightful questions based on the following legal text that a user may ask about Indian GST law:\\n\\n{chunk}\\n The question should look like a query posed by a user to the GST chatbot. Do not  use meta-explanations (e.g., This question requires the chatbot to...) as the question.\"}\n",
        "        ]\n",
        "        response = client.chat.completions.create(\n",
        "            model=\"llama3-70b-8192\",\n",
        "            messages=messages,\n",
        "            temperature=0.7,\n",
        "            max_tokens=400\n",
        "        )\n",
        "        questions_text = response.choices[0].message.content.strip()\n",
        "        questions = [q.strip(\"-•1234567890. \").strip() for q in questions_text.split(\"\\n\") if q.strip()]\n",
        "        questions = questions[1:]  # Keep only the first 5 questions\n",
        "    except Exception as e:\n",
        "        print(f\"[QGen Error] at chunk {idx}: {e}\")\n",
        "        continue\n",
        "\n",
        "    # Step 4.2: Get answers for each question\n",
        "    for question in questions:\n",
        "        try:\n",
        "            messages = [\n",
        "                {\"role\": \"system\", \"content\": \"I want you to answer the following question on Indian GST law to create answers for a dataset for finetuning an llm. just provide th answer, do not include any comments like 'based on the context provided', just give the outright answer. Do not give answers that are too short or vague. Avoid inconsistent use of \\n for bullet points unless you're using proper markdown formatting throughout.\"},\n",
        "                {\"role\": \"user\", \"content\": f\"Question: {question}\\n\\nRefer to this legal content:\\n{chunk}\"}\n",
        "            ]\n",
        "            response = client.chat.completions.create(\n",
        "                model=\"llama3-70b-8192\",\n",
        "                messages=messages,\n",
        "                temperature=0.7,\n",
        "                max_tokens=300\n",
        "            )\n",
        "            answer = response.choices[0].message.content.strip()\n",
        "            qa_pairs.append({\n",
        "                \"question\": question,\n",
        "                \"answer\": answer\n",
        "            })\n",
        "            time.sleep(0.3)\n",
        "        except Exception as e:\n",
        "            print(f\"[Answer Error] for question '{question[:30]}': {e}\")"
      ]
    },
    {
      "cell_type": "code",
      "execution_count": null,
      "metadata": {
        "colab": {
          "base_uri": "https://localhost:8080/",
          "height": 66,
          "referenced_widgets": [
            "ae92d987bed34ed393ca089fba09066e",
            "b7d8e0e1cd9246febfc9fdeeb396c3c9",
            "3e6244e8f71c48b9a76f34c84f637ee3",
            "b5ca845ee47648b3a2ea2a26d9c4416f",
            "da208754dce0452aa58d18e5276506dc",
            "5d39184f6db44344b4bd05a16454fb41",
            "0400d8e8a76e4d93b93728bfd4b423cb",
            "954f1a5b3057405ab2da66259672f75e",
            "9a3d497c1ed543b693fc147dc880383b",
            "504c7a01ac434de8a01e5a5774fd6d18",
            "056c90a92dfc4896935e80374f67a97e"
          ]
        },
        "id": "k2FxaWugGSwf",
        "outputId": "d289ef3d-2ca2-4bef-85e8-577b6374db4b"
      },
      "outputs": [],
      "source": [
        "# STEP 5: Create and Save the Dataset\n",
        "from datasets import Dataset\n",
        "\n",
        "dataset = Dataset.from_list(qa_pairs)\n",
        "dataset.to_json(\"output10.json\")\n",
        "\n",
        "# STEP 6: Download the file\n",
        "# files.download(\"gst_qa_dataset.json\")"
      ]
    },
    {
      "cell_type": "code",
      "execution_count": null,
      "metadata": {
        "colab": {
          "base_uri": "https://localhost:8080/",
          "height": 17
        },
        "id": "V9bFseU8GmR3",
        "outputId": "d663755e-a939-43f8-e4ff-6ac635f95ee7"
      },
      "outputs": [],
      "source": [
        "from google.colab import files\n",
        "\n",
        "files.download(\"output10.json\")"
      ]
    },
    {
      "cell_type": "code",
      "execution_count": null,
      "metadata": {
        "id": "Jz6x9bbtbIm7"
      },
      "outputs": [],
      "source": []
    }
  ],
  "metadata": {
    "colab": {
      "provenance": []
    },
    "kernelspec": {
      "display_name": "Python 3",
      "name": "python3"
    },
    "language_info": {
      "name": "python"
    },
    "widgets": {
      "application/vnd.jupyter.widget-state+json": {
        "0400d8e8a76e4d93b93728bfd4b423cb": {
          "model_module": "@jupyter-widgets/controls",
          "model_module_version": "1.5.0",
          "model_name": "DescriptionStyleModel",
          "state": {
            "_model_module": "@jupyter-widgets/controls",
            "_model_module_version": "1.5.0",
            "_model_name": "DescriptionStyleModel",
            "_view_count": null,
            "_view_module": "@jupyter-widgets/base",
            "_view_module_version": "1.2.0",
            "_view_name": "StyleView",
            "description_width": ""
          }
        },
        "056c90a92dfc4896935e80374f67a97e": {
          "model_module": "@jupyter-widgets/controls",
          "model_module_version": "1.5.0",
          "model_name": "DescriptionStyleModel",
          "state": {
            "_model_module": "@jupyter-widgets/controls",
            "_model_module_version": "1.5.0",
            "_model_name": "DescriptionStyleModel",
            "_view_count": null,
            "_view_module": "@jupyter-widgets/base",
            "_view_module_version": "1.2.0",
            "_view_name": "StyleView",
            "description_width": ""
          }
        },
        "3e6244e8f71c48b9a76f34c84f637ee3": {
          "model_module": "@jupyter-widgets/controls",
          "model_module_version": "1.5.0",
          "model_name": "FloatProgressModel",
          "state": {
            "_dom_classes": [],
            "_model_module": "@jupyter-widgets/controls",
            "_model_module_version": "1.5.0",
            "_model_name": "FloatProgressModel",
            "_view_count": null,
            "_view_module": "@jupyter-widgets/controls",
            "_view_module_version": "1.5.0",
            "_view_name": "ProgressView",
            "bar_style": "success",
            "description": "",
            "description_tooltip": null,
            "layout": "IPY_MODEL_954f1a5b3057405ab2da66259672f75e",
            "max": 1,
            "min": 0,
            "orientation": "horizontal",
            "style": "IPY_MODEL_9a3d497c1ed543b693fc147dc880383b",
            "value": 1
          }
        },
        "504c7a01ac434de8a01e5a5774fd6d18": {
          "model_module": "@jupyter-widgets/base",
          "model_module_version": "1.2.0",
          "model_name": "LayoutModel",
          "state": {
            "_model_module": "@jupyter-widgets/base",
            "_model_module_version": "1.2.0",
            "_model_name": "LayoutModel",
            "_view_count": null,
            "_view_module": "@jupyter-widgets/base",
            "_view_module_version": "1.2.0",
            "_view_name": "LayoutView",
            "align_content": null,
            "align_items": null,
            "align_self": null,
            "border": null,
            "bottom": null,
            "display": null,
            "flex": null,
            "flex_flow": null,
            "grid_area": null,
            "grid_auto_columns": null,
            "grid_auto_flow": null,
            "grid_auto_rows": null,
            "grid_column": null,
            "grid_gap": null,
            "grid_row": null,
            "grid_template_areas": null,
            "grid_template_columns": null,
            "grid_template_rows": null,
            "height": null,
            "justify_content": null,
            "justify_items": null,
            "left": null,
            "margin": null,
            "max_height": null,
            "max_width": null,
            "min_height": null,
            "min_width": null,
            "object_fit": null,
            "object_position": null,
            "order": null,
            "overflow": null,
            "overflow_x": null,
            "overflow_y": null,
            "padding": null,
            "right": null,
            "top": null,
            "visibility": null,
            "width": null
          }
        },
        "5d39184f6db44344b4bd05a16454fb41": {
          "model_module": "@jupyter-widgets/base",
          "model_module_version": "1.2.0",
          "model_name": "LayoutModel",
          "state": {
            "_model_module": "@jupyter-widgets/base",
            "_model_module_version": "1.2.0",
            "_model_name": "LayoutModel",
            "_view_count": null,
            "_view_module": "@jupyter-widgets/base",
            "_view_module_version": "1.2.0",
            "_view_name": "LayoutView",
            "align_content": null,
            "align_items": null,
            "align_self": null,
            "border": null,
            "bottom": null,
            "display": null,
            "flex": null,
            "flex_flow": null,
            "grid_area": null,
            "grid_auto_columns": null,
            "grid_auto_flow": null,
            "grid_auto_rows": null,
            "grid_column": null,
            "grid_gap": null,
            "grid_row": null,
            "grid_template_areas": null,
            "grid_template_columns": null,
            "grid_template_rows": null,
            "height": null,
            "justify_content": null,
            "justify_items": null,
            "left": null,
            "margin": null,
            "max_height": null,
            "max_width": null,
            "min_height": null,
            "min_width": null,
            "object_fit": null,
            "object_position": null,
            "order": null,
            "overflow": null,
            "overflow_x": null,
            "overflow_y": null,
            "padding": null,
            "right": null,
            "top": null,
            "visibility": null,
            "width": null
          }
        },
        "954f1a5b3057405ab2da66259672f75e": {
          "model_module": "@jupyter-widgets/base",
          "model_module_version": "1.2.0",
          "model_name": "LayoutModel",
          "state": {
            "_model_module": "@jupyter-widgets/base",
            "_model_module_version": "1.2.0",
            "_model_name": "LayoutModel",
            "_view_count": null,
            "_view_module": "@jupyter-widgets/base",
            "_view_module_version": "1.2.0",
            "_view_name": "LayoutView",
            "align_content": null,
            "align_items": null,
            "align_self": null,
            "border": null,
            "bottom": null,
            "display": null,
            "flex": null,
            "flex_flow": null,
            "grid_area": null,
            "grid_auto_columns": null,
            "grid_auto_flow": null,
            "grid_auto_rows": null,
            "grid_column": null,
            "grid_gap": null,
            "grid_row": null,
            "grid_template_areas": null,
            "grid_template_columns": null,
            "grid_template_rows": null,
            "height": null,
            "justify_content": null,
            "justify_items": null,
            "left": null,
            "margin": null,
            "max_height": null,
            "max_width": null,
            "min_height": null,
            "min_width": null,
            "object_fit": null,
            "object_position": null,
            "order": null,
            "overflow": null,
            "overflow_x": null,
            "overflow_y": null,
            "padding": null,
            "right": null,
            "top": null,
            "visibility": null,
            "width": null
          }
        },
        "9a3d497c1ed543b693fc147dc880383b": {
          "model_module": "@jupyter-widgets/controls",
          "model_module_version": "1.5.0",
          "model_name": "ProgressStyleModel",
          "state": {
            "_model_module": "@jupyter-widgets/controls",
            "_model_module_version": "1.5.0",
            "_model_name": "ProgressStyleModel",
            "_view_count": null,
            "_view_module": "@jupyter-widgets/base",
            "_view_module_version": "1.2.0",
            "_view_name": "StyleView",
            "bar_color": null,
            "description_width": ""
          }
        },
        "ae92d987bed34ed393ca089fba09066e": {
          "model_module": "@jupyter-widgets/controls",
          "model_module_version": "1.5.0",
          "model_name": "HBoxModel",
          "state": {
            "_dom_classes": [],
            "_model_module": "@jupyter-widgets/controls",
            "_model_module_version": "1.5.0",
            "_model_name": "HBoxModel",
            "_view_count": null,
            "_view_module": "@jupyter-widgets/controls",
            "_view_module_version": "1.5.0",
            "_view_name": "HBoxView",
            "box_style": "",
            "children": [
              "IPY_MODEL_b7d8e0e1cd9246febfc9fdeeb396c3c9",
              "IPY_MODEL_3e6244e8f71c48b9a76f34c84f637ee3",
              "IPY_MODEL_b5ca845ee47648b3a2ea2a26d9c4416f"
            ],
            "layout": "IPY_MODEL_da208754dce0452aa58d18e5276506dc"
          }
        },
        "b5ca845ee47648b3a2ea2a26d9c4416f": {
          "model_module": "@jupyter-widgets/controls",
          "model_module_version": "1.5.0",
          "model_name": "HTMLModel",
          "state": {
            "_dom_classes": [],
            "_model_module": "@jupyter-widgets/controls",
            "_model_module_version": "1.5.0",
            "_model_name": "HTMLModel",
            "_view_count": null,
            "_view_module": "@jupyter-widgets/controls",
            "_view_module_version": "1.5.0",
            "_view_name": "HTMLView",
            "description": "",
            "description_tooltip": null,
            "layout": "IPY_MODEL_504c7a01ac434de8a01e5a5774fd6d18",
            "placeholder": "​",
            "style": "IPY_MODEL_056c90a92dfc4896935e80374f67a97e",
            "value": " 1/1 [00:00&lt;00:00, 15.50ba/s]"
          }
        },
        "b7d8e0e1cd9246febfc9fdeeb396c3c9": {
          "model_module": "@jupyter-widgets/controls",
          "model_module_version": "1.5.0",
          "model_name": "HTMLModel",
          "state": {
            "_dom_classes": [],
            "_model_module": "@jupyter-widgets/controls",
            "_model_module_version": "1.5.0",
            "_model_name": "HTMLModel",
            "_view_count": null,
            "_view_module": "@jupyter-widgets/controls",
            "_view_module_version": "1.5.0",
            "_view_name": "HTMLView",
            "description": "",
            "description_tooltip": null,
            "layout": "IPY_MODEL_5d39184f6db44344b4bd05a16454fb41",
            "placeholder": "​",
            "style": "IPY_MODEL_0400d8e8a76e4d93b93728bfd4b423cb",
            "value": "Creating json from Arrow format: 100%"
          }
        },
        "da208754dce0452aa58d18e5276506dc": {
          "model_module": "@jupyter-widgets/base",
          "model_module_version": "1.2.0",
          "model_name": "LayoutModel",
          "state": {
            "_model_module": "@jupyter-widgets/base",
            "_model_module_version": "1.2.0",
            "_model_name": "LayoutModel",
            "_view_count": null,
            "_view_module": "@jupyter-widgets/base",
            "_view_module_version": "1.2.0",
            "_view_name": "LayoutView",
            "align_content": null,
            "align_items": null,
            "align_self": null,
            "border": null,
            "bottom": null,
            "display": null,
            "flex": null,
            "flex_flow": null,
            "grid_area": null,
            "grid_auto_columns": null,
            "grid_auto_flow": null,
            "grid_auto_rows": null,
            "grid_column": null,
            "grid_gap": null,
            "grid_row": null,
            "grid_template_areas": null,
            "grid_template_columns": null,
            "grid_template_rows": null,
            "height": null,
            "justify_content": null,
            "justify_items": null,
            "left": null,
            "margin": null,
            "max_height": null,
            "max_width": null,
            "min_height": null,
            "min_width": null,
            "object_fit": null,
            "object_position": null,
            "order": null,
            "overflow": null,
            "overflow_x": null,
            "overflow_y": null,
            "padding": null,
            "right": null,
            "top": null,
            "visibility": null,
            "width": null
          }
        }
      }
    }
  },
  "nbformat": 4,
  "nbformat_minor": 0
}
